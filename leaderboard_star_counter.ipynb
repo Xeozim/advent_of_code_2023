{
 "cells": [
  {
   "cell_type": "code",
   "execution_count": 1,
   "metadata": {},
   "outputs": [],
   "source": [
    "import re"
   ]
  },
  {
   "cell_type": "code",
   "execution_count": 2,
   "metadata": {},
   "outputs": [],
   "source": [
    "rx = re.compile(r\"[\\d\\)]*\\s+(\\d+)\\*.*\")\n",
    "def sum_leaderboard_stars(leaderboard: str) -> int:\n",
    "    return sum([int(rx.findall(line)[0]) for line in leaderboard.strip().split(\"\\n\")])"
   ]
  },
  {
   "cell_type": "code",
   "execution_count": 3,
   "metadata": {},
   "outputs": [
    {
     "name": "stdout",
     "output_type": "stream",
     "text": [
      "PASS. Expected: 55. Actual: 55.\n"
     ]
    }
   ],
   "source": [
    "test_leaderboard = \"\"\"\n",
    " 1) 10*  ****  Tom Thumb\n",
    " 2)  9*  ****  Peter Rabbit\n",
    " 3)  8*  ****  Stephen Fry\n",
    " 4)  7*  ****  (anonymous user #1234567)\n",
    " 5)  6*  ****  Dangerous Dan\n",
    " 6)  5*  ****  Tom Hiddleston (AoC++)\n",
    " 7)  4*  ****  Sean Connery\n",
    " 8)  3*  ****  Jennifer Aniston\n",
    " 9)  2*  ****  Andy Murray\n",
    "10)  1*  ****  Fireman Sam\n",
    "     0*  ****  (anonymous user #7654321)\n",
    "\"\"\"\n",
    "expected_output = 55\n",
    "\n",
    "test_output = sum_leaderboard_stars(test_leaderboard)\n",
    "pass_str = \"PASS\" if expected_output == test_output else \"FAIL\"\n",
    "print(f\"{pass_str}. Expected: {expected_output}. Actual: {test_output}.\")"
   ]
  },
  {
   "cell_type": "code",
   "execution_count": null,
   "metadata": {},
   "outputs": [],
   "source": [
    "# Load the input\n",
    "with open(\"leaderboard.txt\") as f:\n",
    "    leaderboard_input = f.read()\n",
    "\n",
    "print(f\"Leaderboard star count: {sum_leaderboard_stars(leaderboard_input)}\")"
   ]
  }
 ],
 "metadata": {
  "kernelspec": {
   "display_name": "venv3.9",
   "language": "python",
   "name": "python3"
  },
  "language_info": {
   "codemirror_mode": {
    "name": "ipython",
    "version": 3
   },
   "file_extension": ".py",
   "mimetype": "text/x-python",
   "name": "python",
   "nbconvert_exporter": "python",
   "pygments_lexer": "ipython3",
   "version": "3.9.7"
  }
 },
 "nbformat": 4,
 "nbformat_minor": 2
}
