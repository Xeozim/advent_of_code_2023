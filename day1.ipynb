{
 "cells": [
  {
   "cell_type": "code",
   "execution_count": 2,
   "metadata": {},
   "outputs": [],
   "source": [
    "# Load the input\n",
    "with open(\"day1_input.txt\") as f:\n",
    "    day1_input = f.read()"
   ]
  },
  {
   "cell_type": "code",
   "execution_count": 3,
   "metadata": {},
   "outputs": [],
   "source": [
    "# Part 1: brute force\n",
    "line_vals = []\n",
    "for line in day1_input.split(\"\\n\"):\n",
    "    first_numeric = last_numeric = None\n",
    "    for char_idx in range(len(line)):\n",
    "        if first_numeric is None and line[char_idx].isnumeric():\n",
    "            first_numeric = line[char_idx]\n",
    "        if last_numeric is None and line[-(char_idx+1)].isnumeric():\n",
    "            last_numeric = line[-(char_idx+1)]\n",
    "    \n",
    "    line_val = int(first_numeric + last_numeric)\n",
    "    line_vals.append(line_val)"
   ]
  },
  {
   "cell_type": "code",
   "execution_count": null,
   "metadata": {},
   "outputs": [],
   "source": [
    "print(f\"Answer (part one): {sum(line_vals)}\")"
   ]
  },
  {
   "cell_type": "code",
   "execution_count": 5,
   "metadata": {},
   "outputs": [],
   "source": [
    "# Part 2 - data\n",
    "nums_as_strings = {\n",
    "    \"one\":   1,\n",
    "    \"two\":   2,\n",
    "    \"three\": 3,\n",
    "    \"four\":  4,\n",
    "    \"five\":  5,\n",
    "    \"six\":   6,\n",
    "    \"seven\": 7,\n",
    "    \"eight\": 8,\n",
    "    \"nine\":  9,\n",
    "}\n",
    "max_num_len = max([len(x) for x in nums_as_strings.keys()])\n",
    "\n",
    "# Array of sets, set at idx 0 contains the valid 1 char starts, 1 the 2 chars etc.\n",
    "valid_starts = []\n",
    "valid_ends = []\n",
    "for i in range(max_num_len+1):\n",
    "    valid_starts.append(set([nas[0:i] if len(nas) >= i else None for nas in nums_as_strings.keys()]))\n",
    "    valid_ends.append(set([nas[len(nas)-i:] if len(nas) >= i else None for nas in nums_as_strings.keys()]))"
   ]
  },
  {
   "cell_type": "code",
   "execution_count": 6,
   "metadata": {},
   "outputs": [],
   "source": [
    "# Left to right iterator test\n",
    "# i is the marker for the left hand side of our search frame, j is the right\n",
    "# if i == j then the character at target[i] is what we're looking at\n",
    "# i can never be greater than j\n",
    "# for every slice target[i:i] to target[i:j], we should check if that slice represents a number\n",
    "# if the slice target[i:n] is not a valid start for that n (i.e. n=2 and target[1:n] is a 2 char\n",
    "# string which isn't a valid start of a word-number) then we move i up by 1\n",
    "\n",
    "# Reverse mode is the same logic but we move the slice back along the string from the end\n",
    "def get_first_num_in_string(target: str, reverse=False) -> int:\n",
    "    target_len = len(target)\n",
    "    def move_marker(x):\n",
    "        return x + 1\n",
    "    def check_marker(x):\n",
    "        return x < target_len\n",
    "    def reset_i():\n",
    "        return 0\n",
    "    def reset_j(i):\n",
    "        return i + 1\n",
    "    def get_frame(i,j):\n",
    "        if reverse:\n",
    "            return target[target_len-j:target_len-i]\n",
    "        else:\n",
    "            return target[i:j]\n",
    "    def check_frame_validity(frame):\n",
    "        if reverse:\n",
    "            return frame in valid_ends[frame_size]\n",
    "        else:\n",
    "            return frame in valid_starts[frame_size]\n",
    "\n",
    "        \n",
    "    i = reset_i()\n",
    "    \n",
    "    result = None\n",
    "    # Expecting one, eight\n",
    "    # Don't forget to check actual numerics!\n",
    "    while check_marker(i) and result is None:\n",
    "        j = reset_j(i)\n",
    "\n",
    "        # Check for an actual number\n",
    "        frame = get_frame(i,j)\n",
    "        if frame.isnumeric():\n",
    "            result = int(frame)\n",
    "            break\n",
    "\n",
    "        while check_marker(j):\n",
    "            frame_size = j - i\n",
    "            frame = get_frame(i,j)\n",
    "            if not check_frame_validity(frame):\n",
    "                break\n",
    "\n",
    "            if frame in nums_as_strings:\n",
    "                result = nums_as_strings[frame]\n",
    "                break\n",
    "\n",
    "            j = move_marker(j)\n",
    "        \n",
    "        i = move_marker(i)\n",
    "    \n",
    "    return result"
   ]
  },
  {
   "cell_type": "code",
   "execution_count": null,
   "metadata": {},
   "outputs": [],
   "source": [
    "# Part 2\n",
    "line_vals = []\n",
    "for line in day1_input.split(\"\\n\"):\n",
    "    first_number = get_first_num_in_string(target = line,reverse=False)\n",
    "    last_number = get_first_num_in_string(target = line,reverse=True)\n",
    "\n",
    "    if first_number is None or last_number is None:\n",
    "        raise Exception(f\"Found no numbers in the string! ({line})\")\n",
    "    \n",
    "    line_val = first_number*10 + last_number\n",
    "    line_vals.append(line_val)\n",
    "\n",
    "print(f\"Answer (part two): {sum(line_vals)}\")"
   ]
  }
 ],
 "metadata": {
  "kernelspec": {
   "display_name": "venv3.10",
   "language": "python",
   "name": "python3"
  },
  "language_info": {
   "codemirror_mode": {
    "name": "ipython",
    "version": 3
   },
   "file_extension": ".py",
   "mimetype": "text/x-python",
   "name": "python",
   "nbconvert_exporter": "python",
   "pygments_lexer": "ipython3",
   "version": "3.9.7"
  }
 },
 "nbformat": 4,
 "nbformat_minor": 2
}
