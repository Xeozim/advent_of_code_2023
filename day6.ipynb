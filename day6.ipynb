{
 "cells": [
  {
   "cell_type": "code",
   "execution_count": 1,
   "metadata": {},
   "outputs": [],
   "source": [
    "from typing_extensions import Self\n",
    "from typing import Union\n",
    "from dataclasses import dataclass\n",
    "import math"
   ]
  },
  {
   "cell_type": "code",
   "execution_count": 2,
   "metadata": {},
   "outputs": [],
   "source": [
    "# Load the input\n",
    "with open(\"day6_input.txt\") as f:\n",
    "    day6_input = f.read()"
   ]
  },
  {
   "cell_type": "code",
   "execution_count": 3,
   "metadata": {},
   "outputs": [],
   "source": [
    "# Quadratic equation solver\n",
    "def solve_quadratic(a: Union[float, int], b: Union[float, int], c: Union[float, int]) -> tuple[float,float]:\n",
    "    discriminant = math.pow(b,2) - (4*a*c)\n",
    "    if discriminant == 0:\n",
    "        root = -b / (2*a)\n",
    "        return [root, root]\n",
    "    else:\n",
    "        sqrtdisc = math.sqrt(discriminant)\n",
    "        root_one = (-b + sqrtdisc) / (2*a)\n",
    "        root_two = (-b - sqrtdisc) / (2*a)\n",
    "        return [root_one, root_two]"
   ]
  },
  {
   "cell_type": "code",
   "execution_count": 4,
   "metadata": {},
   "outputs": [
    {
     "name": "stdout",
     "output_type": "stream",
     "text": [
      "PASS. Expected: [5.3, 1.7]. Actual: [1.7, 5.3].\n",
      "PASS. Expected: [1, 1]. Actual: [1.0, 1.0].\n"
     ]
    }
   ],
   "source": [
    "# Quad solver tests\n",
    "qs_tests = [\n",
    "    {\n",
    "        \"a\": -1,\n",
    "        \"b\": 7,\n",
    "        \"c\": -9,\n",
    "        \"expected_outputs\": [5.3,1.7],\n",
    "        \"decimals\": 1,\n",
    "    },\n",
    "    {\n",
    "        \"a\": 2,\n",
    "        \"b\": -4,\n",
    "        \"c\": 2,\n",
    "        \"expected_outputs\": [1,1],\n",
    "        \"decimals\": 1,\n",
    "    }\n",
    "]\n",
    "for test in qs_tests:\n",
    "    outputs = solve_quadratic(test[\"a\"],test[\"b\"],test[\"c\"])\n",
    "    rounded_outputs = [round(output,test[\"decimals\"]) for output in outputs]\n",
    "    expected_outputs = test[\"expected_outputs\"]\n",
    "    pass_str = \"PASS\" if all([eo in rounded_outputs for eo in expected_outputs]) and len(expected_outputs) == len(outputs) else \"FAIL\"\n",
    "    print(f\"{pass_str}. Expected: {expected_outputs}. Actual: {rounded_outputs}.\")"
   ]
  },
  {
   "cell_type": "code",
   "execution_count": 5,
   "metadata": {},
   "outputs": [],
   "source": [
    "# Race class\n",
    "@dataclass\n",
    "class Race:\n",
    "    race_time_ms: int\n",
    "    record_distance_mm: int\n",
    "\n",
    "    def get_record_beating_bounds(self: Self) -> tuple[int,int]:\n",
    "        qs_solutions = solve_quadratic(-1,self.race_time_ms,-(self.record_distance_mm+1))\n",
    "        # Rounding\n",
    "        upper_solve = math.floor(max(qs_solutions))\n",
    "        lower_solve = math.ceil(min(qs_solutions))\n",
    "        return [upper_solve, lower_solve]\n",
    "\n",
    "    def get_record_beating_times(self: Self) -> set[int]:\n",
    "        upper_solve, lower_solve = self.get_record_beating_bounds()\n",
    "        times_ms = set(range(lower_solve,upper_solve))\n",
    "        times_ms.add(upper_solve)\n",
    "        return times_ms\n",
    "\n",
    "    def count_record_beating_times(self: Self) -> int:\n",
    "        upper_solve, lower_solve = self.get_record_beating_bounds()\n",
    "        return (upper_solve - lower_solve) + 1 \n"
   ]
  },
  {
   "cell_type": "code",
   "execution_count": 6,
   "metadata": {},
   "outputs": [
    {
     "name": "stdout",
     "output_type": "stream",
     "text": [
      "PASS. Expected: {2, 3, 4, 5}. Actual: {2, 3, 4, 5}.\n",
      "PASS. Expected: {4, 5, 6, 7, 8, 9, 10, 11}. Actual: {4, 5, 6, 7, 8, 9, 10, 11}.\n",
      "PASS. Expected: {11, 12, 13, 14, 15, 16, 17, 18, 19}. Actual: {11, 12, 13, 14, 15, 16, 17, 18, 19}.\n"
     ]
    }
   ],
   "source": [
    "# Race record tests\n",
    "race_tests = [\n",
    "    {\n",
    "        \"race_time_ms\": 7,\n",
    "        \"record_distance_mm\": 9,\n",
    "        \"expected_outputs\": set(range(2,6)), # 2 to 5\n",
    "    },\n",
    "    {\n",
    "        \"race_time_ms\": 15,\n",
    "        \"record_distance_mm\": 40,\n",
    "        \"expected_outputs\": set(range(4,12)), # 4 to 11\n",
    "    },\n",
    "    {\n",
    "        \"race_time_ms\": 30,\n",
    "        \"record_distance_mm\": 200,\n",
    "        \"expected_outputs\": set(range(11,20)), # 11 to 19\n",
    "    },\n",
    "]\n",
    "for test in race_tests:\n",
    "    race = Race(race_time_ms=test[\"race_time_ms\"],record_distance_mm=test[\"record_distance_mm\"])\n",
    "    outputs = race.get_record_beating_times()\n",
    "    assert(outputs is not None)\n",
    "    expected_outputs = test[\"expected_outputs\"]\n",
    "    pass_str = \"PASS\" if all([eo in outputs for eo in expected_outputs]) and len(expected_outputs) == len(outputs) else \"FAIL\"\n",
    "    print(f\"{pass_str}. Expected: {expected_outputs}. Actual: {outputs}.\")"
   ]
  },
  {
   "cell_type": "code",
   "execution_count": 7,
   "metadata": {},
   "outputs": [],
   "source": [
    "# Example data\n",
    "example_input = \"\"\"\n",
    "Time:      7  15   30\n",
    "Distance:  9  40  200\n",
    "\"\"\".strip()"
   ]
  },
  {
   "cell_type": "code",
   "execution_count": 8,
   "metadata": {},
   "outputs": [],
   "source": [
    "# Parse some input into Race objects\n",
    "def parse_input_part_one(input_str: str) -> list[Race]:\n",
    "    times_line, distances_line = input_str.split(\"\\n\")\n",
    "\n",
    "    # Split each line string on spaces, the first result will contain \"Time: \" or \"Distance: \"\n",
    "    # The rest are interesting values\n",
    "    times = [int(x) for x in times_line.split()[1:]]\n",
    "    distances = [int(x) for x in distances_line.split()[1:]]\n",
    "\n",
    "    assert(len(times) == len(distances))\n",
    "\n",
    "    races = []\n",
    "    for i in range(len(times)):\n",
    "        races.append(Race(race_time_ms=times[i],record_distance_mm=distances[i]))\n",
    "\n",
    "    return races"
   ]
  },
  {
   "cell_type": "code",
   "execution_count": 10,
   "metadata": {},
   "outputs": [
    {
     "name": "stdout",
     "output_type": "stream",
     "text": [
      "PASS. Expected: [Race(race_time_ms=7, record_distance_mm=9), Race(race_time_ms=15, record_distance_mm=40), Race(race_time_ms=30, record_distance_mm=200)]. Actual: [Race(race_time_ms=7, record_distance_mm=9), Race(race_time_ms=15, record_distance_mm=40), Race(race_time_ms=30, record_distance_mm=200)].\n"
     ]
    }
   ],
   "source": [
    "# Parse testing\n",
    "expected_races = [\n",
    "    Race(race_time_ms=7,record_distance_mm=9),\n",
    "    Race(race_time_ms=15,record_distance_mm=40),\n",
    "    Race(race_time_ms=30,record_distance_mm=200),\n",
    "]\n",
    "example_races = parse_input_part_one(example_input)\n",
    "\n",
    "pass_str = \"PASS\" if all([er in example_races for er in expected_races]) and len(expected_races) == len(example_races) else \"FAIL\"\n",
    "print(f\"{pass_str}. Expected: {expected_races}. Actual: {example_races}.\")"
   ]
  },
  {
   "cell_type": "code",
   "execution_count": null,
   "metadata": {},
   "outputs": [],
   "source": [
    "# Get the answer to part one from a set of races by get the number of record beating times for each\n",
    "# race and finding their product\n",
    "def part_one_answer(races: list[Race]) -> int:\n",
    "    record_beating_options = [race.count_record_beating_times() for race in races]\n",
    "    answer_multiple = 1\n",
    "    for rbo in record_beating_options: answer_multiple = answer_multiple * rbo\n",
    "\n",
    "    return answer_multiple"
   ]
  },
  {
   "cell_type": "code",
   "execution_count": null,
   "metadata": {},
   "outputs": [
    {
     "name": "stdout",
     "output_type": "stream",
     "text": [
      "PASS. Expected: 288. Actual: 288.\n"
     ]
    }
   ],
   "source": [
    "# Part one answer testing\n",
    "expected_output = 288\n",
    "output = part_one_answer(parse_input_part_one(example_input))\n",
    "pass_str = \"PASS\" if expected_output == output else \"FAIL\"\n",
    "print(f\"{pass_str}. Expected: {expected_output}. Actual: {output}.\")"
   ]
  },
  {
   "cell_type": "code",
   "execution_count": null,
   "metadata": {},
   "outputs": [],
   "source": [
    "# Parse the actual data\n",
    "races = parse_input_part_one(day6_input)"
   ]
  },
  {
   "cell_type": "code",
   "execution_count": null,
   "metadata": {},
   "outputs": [],
   "source": [
    "print(f\"Answer (part one): {part_one_answer(races)}\")"
   ]
  },
  {
   "cell_type": "code",
   "execution_count": 11,
   "metadata": {},
   "outputs": [],
   "source": [
    "# Updated parse for part two\n",
    "def parse_input_part_two(input_str: str) -> Race:\n",
    "    time_line, distance_line = input_str.split(\"\\n\")\n",
    "\n",
    "    # Split each line string on spaces, the first result will contain \"Time: \" or \"Distance: \"\n",
    "    # The rest are interesting values\n",
    "    race_time_ms = int(\"\".join(time_line.split()[1:]))\n",
    "    record_distance_mm = int(\"\".join(distance_line.split()[1:]))\n",
    "\n",
    "    return Race(race_time_ms=race_time_ms,record_distance_mm=record_distance_mm)"
   ]
  },
  {
   "cell_type": "code",
   "execution_count": 12,
   "metadata": {},
   "outputs": [
    {
     "name": "stdout",
     "output_type": "stream",
     "text": [
      "PASS. Expected: Race(race_time_ms=71530, record_distance_mm=940200). Actual: Race(race_time_ms=71530, record_distance_mm=940200).\n"
     ]
    }
   ],
   "source": [
    "# Parse testing for part two\n",
    "expected_race = Race(race_time_ms=71530, record_distance_mm=940200)\n",
    "example_race = parse_input_part_two(example_input)\n",
    "\n",
    "pass_str = \"PASS\" if expected_race == example_race else \"FAIL\"\n",
    "print(f\"{pass_str}. Expected: {expected_race}. Actual: {example_race}.\")"
   ]
  },
  {
   "cell_type": "code",
   "execution_count": 13,
   "metadata": {},
   "outputs": [
    {
     "name": "stdout",
     "output_type": "stream",
     "text": [
      "PASS. Expected: 71503. Actual: 71503.\n"
     ]
    }
   ],
   "source": [
    "# Part two answer testing\n",
    "expected_output = 71503\n",
    "output = parse_input_part_two(example_input).count_record_beating_times()\n",
    "pass_str = \"PASS\" if expected_output == output else \"FAIL\"\n",
    "print(f\"{pass_str}. Expected: {expected_output}. Actual: {output}.\")"
   ]
  },
  {
   "cell_type": "code",
   "execution_count": null,
   "metadata": {},
   "outputs": [],
   "source": [
    "print(f\"Answer (part two): {parse_input_part_two(day6_input).count_record_beating_times()}\")"
   ]
  }
 ],
 "metadata": {
  "kernelspec": {
   "display_name": "venv3.9",
   "language": "python",
   "name": "python3"
  },
  "language_info": {
   "codemirror_mode": {
    "name": "ipython",
    "version": 3
   },
   "file_extension": ".py",
   "mimetype": "text/x-python",
   "name": "python",
   "nbconvert_exporter": "python",
   "pygments_lexer": "ipython3",
   "version": "3.9.7"
  }
 },
 "nbformat": 4,
 "nbformat_minor": 2
}
