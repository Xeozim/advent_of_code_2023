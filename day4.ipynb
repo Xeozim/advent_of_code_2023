{
 "cells": [
  {
   "cell_type": "code",
   "execution_count": 18,
   "metadata": {},
   "outputs": [],
   "source": [
    "from typing_extensions import Self"
   ]
  },
  {
   "cell_type": "code",
   "execution_count": 19,
   "metadata": {},
   "outputs": [],
   "source": [
    "# Load the input\n",
    "with open(\"day4_input.txt\") as f:\n",
    "    day4_input = f.read()"
   ]
  },
  {
   "cell_type": "code",
   "execution_count": 20,
   "metadata": {},
   "outputs": [],
   "source": [
    "# Class to represent a scratchcard\n",
    "class Scratchy:\n",
    "    # ID\n",
    "    id: int\n",
    "\n",
    "    # Winning numbers\n",
    "    winning_numbers: set[int]\n",
    "\n",
    "    # Player numbers\n",
    "    player_numbers: set[int]\n",
    "\n",
    "    def __init__(self: Self, id: int, winning_numbers: set[int], player_numbers: set[int]):\n",
    "        self.id = id\n",
    "        self.winning_numbers = winning_numbers\n",
    "        self.player_numbers = player_numbers\n",
    "\n",
    "    # Just helpful to be able to print\n",
    "    def __str__(self: Self) -> str:\n",
    "        return f\"Scratch card with ID {self.id}, winning numbers {self.winning_numbers}, player numbers: {self.player_numbers}, matches: {self.matches()}, score: {self.score()}\"\n",
    "    def __repr__(self) -> str:\n",
    "        return str(self)\n",
    "\n",
    "    @classmethod\n",
    "    def Parse(cls: Self, card_as_string: str) -> Self:\n",
    "        id_info, number_info = card_as_string.split(\":\")\n",
    "        card_id = int(id_info[5:])\n",
    "        winning_info, player_info = number_info.split(\"|\")\n",
    "        winning_numbers = set(winning_info.strip().split())\n",
    "        player_numbers = set(player_info.strip().split())\n",
    "        return cls(id=card_id, winning_numbers=winning_numbers, player_numbers=player_numbers)\n",
    "    \n",
    "    def matches(self: Self) -> set:\n",
    "        return self.player_numbers.intersection(self.winning_numbers)\n",
    "    \n",
    "    def score(self: Self) -> int:\n",
    "        match_count = len(self.matches())\n",
    "        return 2**(match_count-1) if match_count > 0 else 0"
   ]
  },
  {
   "cell_type": "code",
   "execution_count": 21,
   "metadata": {},
   "outputs": [
    {
     "name": "stdout",
     "output_type": "stream",
     "text": [
      "PASS. Expected: 8. Actual: 8.\n",
      "PASS. Expected: 2. Actual: 2.\n",
      "PASS. Expected: 2. Actual: 2.\n",
      "PASS. Expected: 1. Actual: 1.\n",
      "PASS. Expected: 0. Actual: 0.\n",
      "PASS. Expected: 0. Actual: 0.\n"
     ]
    }
   ],
   "source": [
    "## Tests\n",
    "test_input = \"\"\"\n",
    "Card 1: 41 48 83 86 17 | 83 86  6 31 17  9 48 53\n",
    "Card 2: 13 32 20 16 61 | 61 30 68 82 17 32 24 19\n",
    "Card 3:  1 21 53 59 44 | 69 82 63 72 16 21 14  1\n",
    "Card 4: 41 92 73 84 69 | 59 84 76 51 58  5 54 83\n",
    "Card 5: 87 83 26 28 32 | 88 30 70 12 93 22 82 36\n",
    "Card 6: 31 18 13 56 72 | 74 77 10 23 35 67 36 11\n",
    "\"\"\"\n",
    "test_outputs_part_one = [\n",
    "    8,\n",
    "    2,\n",
    "    2,\n",
    "    1,\n",
    "    0,\n",
    "    0,\n",
    "]\n",
    "\n",
    "testcards = []\n",
    "for card_as_string in test_input.strip().split(\"\\n\"):\n",
    "    testcards.append(Scratchy.Parse(card_as_string=card_as_string))\n",
    "    card = Scratchy.Parse(card_as_string=card_as_string)\n",
    "    score = card.score()\n",
    "    expected_output = test_outputs_part_one[card.id-1]\n",
    "    pass_str = \"PASS\" if expected_output == score else \"FAIL\"\n",
    "    print(f\"{pass_str}. Expected: {expected_output}. Actual: {score}.\")"
   ]
  },
  {
   "cell_type": "code",
   "execution_count": 22,
   "metadata": {},
   "outputs": [],
   "source": [
    "# Parse the input into Scratchy objects\n",
    "cards = []\n",
    "for card_as_string in day4_input.split(\"\\n\"):\n",
    "    cards.append(Scratchy.Parse(card_as_string=card_as_string))"
   ]
  },
  {
   "cell_type": "code",
   "execution_count": 23,
   "metadata": {},
   "outputs": [
    {
     "name": "stdout",
     "output_type": "stream",
     "text": [
      "Answer (part one): 24542\n"
     ]
    }
   ],
   "source": [
    "print(f\"Answer (part one): {sum([card.score() for card in cards])}\")"
   ]
  },
  {
   "cell_type": "code",
   "execution_count": 24,
   "metadata": {},
   "outputs": [],
   "source": [
    "def get_copy_counts(cards: list[Scratchy]) -> list[int]:\n",
    "    copy_counts = [1 for card in cards]\n",
    "    for card in cards:\n",
    "        # How many copies of THIS card are there already?\n",
    "        # NB: index of a card in card_copies is card.id - 1 because 0 index\n",
    "        card_copies = copy_counts[card.id-1]\n",
    "        card_match_count = len(card.matches())\n",
    "        # Add copies to subsequent cards based on how many matches we had\n",
    "        for offset in range(card_match_count):\n",
    "            # 0 index offsets cancel out here. offset starts at 0, but the next card is at\n",
    "            # copy_counts[card.id] anyway because IDs are 1-indexed and copy_counts is 0-indexed\n",
    "            copy_counts[card.id+offset] += card_copies\n",
    "    return copy_counts"
   ]
  },
  {
   "cell_type": "code",
   "execution_count": 25,
   "metadata": {},
   "outputs": [
    {
     "name": "stdout",
     "output_type": "stream",
     "text": [
      "PASS. Expected: 1. Actual: 1.\n",
      "PASS. Expected: 2. Actual: 2.\n",
      "PASS. Expected: 4. Actual: 4.\n",
      "PASS. Expected: 8. Actual: 8.\n",
      "PASS. Expected: 14. Actual: 14.\n",
      "PASS. Expected: 1. Actual: 1.\n"
     ]
    }
   ],
   "source": [
    "## Tests part 2\n",
    "# Expected copies of each card\n",
    "test_outputs_part_two = [\n",
    "    1,\n",
    "    2,\n",
    "    4,\n",
    "    8,\n",
    "    14,\n",
    "    1,\n",
    "]\n",
    "\n",
    "test_card_copy_counts = get_copy_counts(testcards)\n",
    "for i, copy_count in enumerate(test_card_copy_counts):\n",
    "    expected_output = test_outputs_part_two[i]\n",
    "    pass_str = \"PASS\" if expected_output == copy_count else \"FAIL\"\n",
    "    print(f\"{pass_str}. Expected: {expected_output}. Actual: {copy_count}.\")"
   ]
  },
  {
   "cell_type": "code",
   "execution_count": null,
   "metadata": {},
   "outputs": [],
   "source": [
    "print(f\"Answer (part two): {sum(get_copy_counts(cards))}\")"
   ]
  },
  {
   "cell_type": "code",
   "execution_count": null,
   "metadata": {},
   "outputs": [],
   "source": [
    "# Just to prove that part 2 can be done with a single loop\n",
    "copy_counts = []\n",
    "for card_as_string in day4_input.split(\"\\n\"):\n",
    "    card = Scratchy.Parse(card_as_string=card_as_string)\n",
    "    # Make sure this card exists in the copy count array\n",
    "    while len(copy_counts) <= card.id-1:\n",
    "        copy_counts.append(1)\n",
    "\n",
    "    # How many copies of THIS card are there already?\n",
    "    # NB: index of a card in card_copies is card.id - 1 because 0 index\n",
    "    card_copies = copy_counts[card.id-1]\n",
    "\n",
    "    card_match_count = len(card.matches())\n",
    "    # Add copies to subsequent cards based on how many matches we had\n",
    "    for offset in range(card_match_count):\n",
    "        while len(copy_counts) <= card.id+offset:\n",
    "            copy_counts.append(1)\n",
    "        # 0 index offsets cancel out here. offset starts at 0, but the next card is at\n",
    "        # copy_counts[card.id] anyway because IDs are 1-indexed and copy_counts is 0-indexed\n",
    "        copy_counts[card.id+offset] += card_copies\n",
    "\n",
    "print(f\"Answer (part two, single loop): {sum(copy_counts)}\")"
   ]
  }
 ],
 "metadata": {
  "kernelspec": {
   "display_name": "venv3.9",
   "language": "python",
   "name": "python3"
  },
  "language_info": {
   "codemirror_mode": {
    "name": "ipython",
    "version": 3
   },
   "file_extension": ".py",
   "mimetype": "text/x-python",
   "name": "python",
   "nbconvert_exporter": "python",
   "pygments_lexer": "ipython3",
   "version": "3.9.7"
  }
 },
 "nbformat": 4,
 "nbformat_minor": 2
}
