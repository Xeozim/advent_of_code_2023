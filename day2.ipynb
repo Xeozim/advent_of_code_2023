{
 "cells": [
  {
   "cell_type": "code",
   "execution_count": 3,
   "metadata": {},
   "outputs": [],
   "source": [
    "from pydantic import BaseModel"
   ]
  },
  {
   "cell_type": "code",
   "execution_count": 4,
   "metadata": {},
   "outputs": [],
   "source": [
    "# Load the input\n",
    "with open(\"day2_input.txt\") as f:\n",
    "    day2_input = f.read()"
   ]
  },
  {
   "cell_type": "code",
   "execution_count": 5,
   "metadata": {},
   "outputs": [],
   "source": [
    "# Represents a single draw from a single game\n",
    "class Draw(BaseModel):\n",
    "    reds: int = 0\n",
    "    greens: int = 0\n",
    "    blues: int = 0\n",
    "\n",
    "    def GetPower(self):\n",
    "        return self.reds * self.greens * self.blues\n",
    "\n",
    "# Represents a whole game including all the draws\n",
    "class Game(BaseModel):\n",
    "    id: int\n",
    "    draws: list[Draw] = []\n",
    "\n",
    "    # Get the max possible draw for this game's bag contents based on all the draws we saw \n",
    "    def GetMaxDraw(self):\n",
    "        max_draw = Draw()\n",
    "        for draw in self.draws:\n",
    "            max_draw.reds = max(max_draw.reds, draw.reds)\n",
    "            max_draw.greens = max(max_draw.greens, draw.greens)\n",
    "            max_draw.blues = max(max_draw.blues, draw.blues)\n",
    "        return max_draw\n",
    "\n",
    "    # Determine if this game is possible with a given bag contents\n",
    "    def IsGamePossible(self, bag_contents: Draw):\n",
    "        max_draw = self.GetMaxDraw()\n",
    "        return max_draw.reds <= bag_contents.reds and max_draw.greens <= bag_contents.greens and max_draw.blues <= bag_contents.blues\n",
    "    \n",
    "\n",
    "def ParseGameFromString(game_info_string: str) -> Game:\n",
    "    game_id_info, draws_info = game_info_string.split(\":\")\n",
    "    gameid = int(game_id_info[5:])\n",
    "    \n",
    "    game_draws=[]\n",
    "    for draw_info in draws_info.split(\";\"):\n",
    "        draw = Draw()\n",
    "        for draw_col_info in draw_info.split(\",\"):\n",
    "            count, col = draw_col_info.strip().split(\" \")\n",
    "            if col == \"blue\":\n",
    "                draw.blues = int(count)\n",
    "            elif col == \"red\":\n",
    "                draw.reds = int(count)\n",
    "            elif col == \"green\":\n",
    "                draw.greens = int(count)\n",
    "        \n",
    "        game_draws.append(draw)\n",
    "    \n",
    "    game = Game(id=gameid,draws=game_draws)\n",
    "\n",
    "    return game"
   ]
  },
  {
   "cell_type": "code",
   "execution_count": 6,
   "metadata": {},
   "outputs": [],
   "source": [
    "# Parse the input into Games and Draws\n",
    "games = []\n",
    "for game_info_string in day2_input.split(\"\\n\"):\n",
    "    games.append(ParseGameFromString(game_info_string=game_info_string))"
   ]
  },
  {
   "cell_type": "code",
   "execution_count": 7,
   "metadata": {},
   "outputs": [],
   "source": [
    "# Part 1 - sum of ids of possible games\n",
    "contents = Draw(reds=12, greens=13, blues=14)\n",
    "possible_game_ids = [game.id for game in games if game.IsGamePossible(contents)]"
   ]
  },
  {
   "cell_type": "code",
   "execution_count": null,
   "metadata": {},
   "outputs": [],
   "source": [
    "print(f\"Answer (part one): {sum(possible_game_ids)}\")"
   ]
  },
  {
   "cell_type": "code",
   "execution_count": 9,
   "metadata": {},
   "outputs": [],
   "source": [
    "game_powers = [game.GetMaxDraw().GetPower() for game in games]"
   ]
  },
  {
   "cell_type": "code",
   "execution_count": null,
   "metadata": {},
   "outputs": [],
   "source": [
    "print(f\"Answer (part two): {sum(game_powers)}\")"
   ]
  }
 ],
 "metadata": {
  "kernelspec": {
   "display_name": "venv3.10",
   "language": "python",
   "name": "python3"
  },
  "language_info": {
   "codemirror_mode": {
    "name": "ipython",
    "version": 3
   },
   "file_extension": ".py",
   "mimetype": "text/x-python",
   "name": "python",
   "nbconvert_exporter": "python",
   "pygments_lexer": "ipython3",
   "version": "3.9.7"
  }
 },
 "nbformat": 4,
 "nbformat_minor": 2
}
